{
 "cells": [
  {
   "cell_type": "code",
   "execution_count": 1,
   "id": "cc0c43b5",
   "metadata": {},
   "outputs": [
    {
     "name": "stdout",
     "output_type": "stream",
     "text": [
      "(121500, 10)\n",
      "(97200, 3) (24300, 3) (97200, 7) (24300, 7)\n"
     ]
    }
   ],
   "source": [
    "import pandas as pd\n",
    "import numpy as np\n",
    "from xgboost import XGBRegressor\n",
    "from sklearn.model_selection import train_test_split, GridSearchCV\n",
    "from sklearn.metrics import r2_score, mean_squared_error\n",
    "from sklearn.multioutput import MultiOutputRegressor\n",
    "\n",
    "data = pd.read_csv('GCPW_Training_mid/GCPW_1_3_mid.csv')\n",
    "data_int=data.iloc[:,:]\n",
    "\n",
    "data_int_10=np.tile(data_int, (25, 1)) #串聯10倍長度\n",
    "mean,var = 0,0.01\n",
    "noise = np.random.normal(mean, var, data_int_10.shape[0]) #並加入noise\n",
    "noise = np.random.normal(mean, var, data_int_10.shape) #並加入noise\n",
    "print(noise.shape)\n",
    "data_noise_10 = data_int_10+noise*0.00001 #嘗試在不同大小的noise\n",
    "X = data_noise_10[:, :3]\n",
    "y = data_noise_10[:, 3:]\n",
    "X_train, X_test, y_train, y_test = train_test_split(X, y, test_size=0.2, shuffle=True, random_state=42)\n",
    "print(X_train.shape,X_test.shape,y_train.shape,y_test.shape)\n",
    "\n"
   ]
  },
  {
   "cell_type": "code",
   "execution_count": null,
   "id": "8eb6c920",
   "metadata": {},
   "outputs": [
    {
     "name": "stdout",
     "output_type": "stream",
     "text": [
      "Fitting 2 folds for each of 1080 candidates, totalling 2160 fits\n"
     ]
    }
   ],
   "source": [
    "xgb = XGBRegressor(objective='reg:squarederror',\n",
    "                   seed=42)\n",
    "param_grid = {\n",
    "    'estimator__learning_rate': [0.01,0.05,0.1,0.2],\n",
    "    'estimator__n_estimators': [800,900,1000],\n",
    "    'estimator__max_depth': [8,9,10,11,12],\n",
    "       'estimator__min_child_weight': [5 , 7],\n",
    "       'estimator__gamma': [0.0,0.1,0.2],\n",
    "       'estimator__subsample': [0.8, 0.9 , 1]\n",
    "}\n",
    " \n",
    "multi_output_model = MultiOutputRegressor(xgb)\n",
    "\n",
    "grid_search = GridSearchCV(estimator=multi_output_model,\n",
    "                           param_grid=param_grid,\n",
    "                           cv=2,\n",
    "                           scoring='neg_mean_squared_error',\n",
    "                           verbose=1,\n",
    "                           n_jobs=-1\n",
    "                          )\n",
    "\n",
    "grid_search.fit(X_train, y_train)\n",
    "\n",
    "best_params = grid_search.best_params_\n",
    "print(f'Best parameters found: {best_params}')\n",
    "\n",
    "best_xgb_model = XGBRegressor(objective='reg:squarederror',\n",
    "                              learning_rate=best_params['estimator__learning_rate'],\n",
    "                              n_estimators=best_params['estimator__n_estimators'],\n",
    "                              max_depth=best_params['estimator__max_depth'],\n",
    "                              min_child_weight=best_params['estimator__min_child_weight'],\n",
    "                              gamma=best_params['estimator__gamma'],\n",
    "                              subsample=best_params['estimator__subsample'],\n",
    "                              colsample_bytree=0.8,\n",
    "                              reg_alpha=0,\n",
    "                              reg_lambda=1,\n",
    "                              seed=42)\n",
    "best_multi_output_model = MultiOutputRegressor(best_xgb_model)\n",
    "\n",
    "best_multi_output_model.fit(X_train, y_train)\n",
    "\n",
    "y_pred = best_multi_output_model.predict(X_test)\n",
    "# \n",
    "r2_scores = r2_score(y_test, y_pred, multioutput='raw_values')\n",
    "print(f'R² scores for each output: {r2_scores}')"
   ]
  },
  {
   "cell_type": "code",
   "execution_count": null,
   "id": "f1d68a08",
   "metadata": {
    "scrolled": false
   },
   "outputs": [],
   "source": [
    "RMSE=np.sqrt(sum((y_test-y_pred) ** 2)/(y_pred.size))\n",
    "print('RMSE [S11,S21,beta,alpha,Zo] : ')#,S11(angle),S21(angle)\n",
    "print(RMSE)\n",
    "NRMSE=RMSE/abs(np.mean(y_pred, axis=0))\n",
    "print('NRMSE [S11,S21,beta,alpha,Zo] :')# ,S11(angle),S21(angle)\n",
    "print(NRMSE)"
   ]
  },
  {
   "cell_type": "code",
   "execution_count": null,
   "id": "fe29c369",
   "metadata": {},
   "outputs": [],
   "source": [
    "best_xgb_model = XGBRegressor(\n",
    "    objective='reg:squarederror',\n",
    "    learning_rate=best_params['estimator__learning_rate'],\n",
    "    n_estimators=best_params['estimator__n_estimators'],\n",
    "    max_depth=best_params['estimator__max_depth'],\n",
    "     min_child_weight=best_params['estimator__min_child_weight'],\n",
    "     gamma=best_params['estimator__gamma'],\n",
    "     subsample=best_params['estimator__subsample'],\n",
    "    seed=42\n",
    ")\n",
    "head=401*0 #後面乘上的數字等於第幾組數據 數據in平板 因為81個頻率點\n",
    "data = pd.read_csv('GCPW_Training_mid/GCPW_freq_mid.csv')##val_input.csv\n",
    "X_val = data.iloc[:,:]\n",
    "# \n",
    "best_multi_output_model = MultiOutputRegressor(best_xgb_model)\n",
    "\n",
    "best_multi_output_model.fit(X_train, y_train)\n",
    "\n",
    "y_pred_val = best_multi_output_model.predict(X_val)\n",
    "\n",
    "y_pred_val_df = pd.DataFrame(y_pred_val,columns=['s11','s21','beta','alpha','Zo','S11(angle)','S21(angle)'])\n",
    "y_pred_val_df.to_csv('GCPW_val/GCPW_pred_1_3_mid.csv', index=False)"
   ]
  },
  {
   "cell_type": "code",
   "execution_count": null,
   "id": "e8ce79dd",
   "metadata": {
    "scrolled": true
   },
   "outputs": [],
   "source": [
    "import matplotlib.pyplot as plt\n",
    "\n",
    "k = 0\n",
    "head_81=k*81\n",
    "head_401=k*401\n",
    "\n",
    "data_int = np.array(data_int)\n",
    "freq_81=np.arange(37, 41.05, 0.05)\n",
    "freq_401=np.arange(37, 41.01, 0.01)\n",
    "plt.plot(freq_81, data_int[head_81:head_81+81, 3], label='simulation data')\n",
    "plt.plot(freq_401, y_pred_val[head_401:head_401+401, 1], label='regression data')\n",
    "plt.xlabel('Frequency')\n",
    "plt.ylabel('Value')\n",
    "plt.title('S21')\n",
    "plt.legend()\n",
    "plt.show()\n",
    "\n",
    "#beta\n",
    "plt.plot(freq_81, data_int[head_81:head_81+81, 5], label='simulation data')\n",
    "plt.plot(freq_401, y_pred_val[head_401:head_401+401, 2], label='regression data')\n",
    "plt.xlabel('Frequency')\n",
    "plt.ylabel('Value')\n",
    "plt.title('beta')\n",
    "plt.legend()\n",
    "plt.show()\n",
    "\n",
    "#alpha\n",
    "plt.plot(freq_81, data_int[head_81:head_81+81, 6], label='simulation data')\n",
    "plt.plot(freq_401, y_pred_val[head_401:head_401+401, 3], label='regression data')\n",
    "plt.xlabel('Frequency')\n",
    "plt.ylabel('Value')\n",
    "plt.title('alpha')\n",
    "plt.legend()\n",
    "plt.show()\n",
    "\n",
    "#Zo\n",
    "plt.plot(freq_81, data_int[head_81:head_81+81, 7], label='simulation data')\n",
    "plt.plot(freq_401, y_pred_val[head_401:head_401+401, 4], label='regression data')\n",
    "plt.xlabel('Frequency')\n",
    "plt.ylabel('Value')\n",
    "plt.title('Zo')\n",
    "plt.legend()\n",
    "plt.show()"
   ]
  },
  {
   "cell_type": "code",
   "execution_count": null,
   "id": "acd985d8",
   "metadata": {},
   "outputs": [],
   "source": []
  }
 ],
 "metadata": {
  "kernelspec": {
   "display_name": "Python 3",
   "language": "python",
   "name": "python3"
  },
  "language_info": {
   "codemirror_mode": {
    "name": "ipython",
    "version": 3
   },
   "file_extension": ".py",
   "mimetype": "text/x-python",
   "name": "python",
   "nbconvert_exporter": "python",
   "pygments_lexer": "ipython3",
   "version": "3.6.13"
  }
 },
 "nbformat": 4,
 "nbformat_minor": 5
}
